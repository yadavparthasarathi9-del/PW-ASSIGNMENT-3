{
  "nbformat": 4,
  "nbformat_minor": 0,
  "metadata": {
    "colab": {
      "provenance": []
    },
    "kernelspec": {
      "name": "python3",
      "display_name": "Python 3"
    },
    "language_info": {
      "name": "python"
    }
  },
  "cells": [
    {
      "cell_type": "code",
      "execution_count": null,
      "metadata": {
        "id": "73nKTqqkc61I"
      },
      "outputs": [],
      "source": [
        "THEORY QUESTION"
      ]
    },
    {
      "cell_type": "markdown",
      "source": [],
      "metadata": {
        "id": "fjr6bJmWc_TW"
      }
    },
    {
      "cell_type": "markdown",
      "source": [
        "#1\n",
        "Function: A block of code that performs a task and is defined using def. It is independent and can be called directly.\n",
        "\n",
        "Method: A function that belongs to an object (class instance) and is called using the object.\n",
        "\n",
        "EXAMPLE\n",
        "# Function\n",
        "def greet(name):\n",
        "    return f\"Hello, {name}\"\n",
        "\n",
        "print(greet(\"Partha\"))\n",
        "\n",
        "# Method\n",
        "text = \"hello\"\n",
        "print(text.upper())   # .upper() is a method of str class\n",
        "\n"
      ],
      "metadata": {
        "id": "SVrSuxuddKFF"
      }
    },
    {
      "cell_type": "markdown",
      "source": [
        "#2\n",
        "Parameter: Variable defined in the function definition (placeholder).\n",
        "\n",
        "Argument: Actual value passed when calling the function.\n",
        "\n",
        "Example:\n",
        "\n",
        "def add(a, b):   # a and b are parameters\n",
        "    return a + b\n",
        "\n",
        "print(add(3, 5)) # 3 and 5 are arguments"
      ],
      "metadata": {
        "id": "Kuvkj6qNd1s9"
      }
    },
    {
      "cell_type": "markdown",
      "source": [
        "#3\n",
        "Defining: def keyword, lambda, using def inside class.\n",
        "\n",
        "Calling: Normal call, with positional args, keyword args, default args, variable-length args.\n",
        "\n",
        "Example:\n",
        "\n",
        "# Normal function\n",
        "def square(x):\n",
        "    return x*x\n",
        "print(square(4))\n",
        "\n",
        "# Lambda function\n",
        "cube = lambda x: x**3\n",
        "print(cube(3))\n",
        "\n",
        "# Default argument\n",
        "def greet(name=\"User\"):\n",
        "    return f\"Hello, {name}\"\n",
        "print(greet())"
      ],
      "metadata": {
        "id": "k5yUpg6feBwe"
      }
    },
    {
      "cell_type": "markdown",
      "source": [
        "#4\n",
        "Sends the result of a function back to the caller. Without return, function gives None.\n",
        "\n",
        "Example:\n",
        "\n",
        "def add(a, b):\n",
        "    return a + b\n",
        "\n",
        "result = add(10, 20)\n",
        "print(result)   # 30"
      ],
      "metadata": {
        "id": "XJe8t3pZeOQL"
      }
    },
    {
      "cell_type": "markdown",
      "source": [
        "#5\n",
        "Iterable: An object that can be looped over (list, tuple, string).\n",
        "\n",
        "Iterator: An object with __iter__() and __next__() methods, produces elements one by one.\n",
        "\n",
        "Example:\n",
        "\n",
        "numbers = [1, 2, 3]   # Iterable\n",
        "it = iter(numbers)    # Iterator\n",
        "print(next(it))  # 1\n",
        "print(next(it))  # 2"
      ],
      "metadata": {
        "id": "Dp4RQAPGeRkm"
      }
    },
    {
      "cell_type": "markdown",
      "source": [
        "#6\n",
        "Generators are functions that yield values one by one using yield instead of return.\n",
        "\n",
        "They produce data lazily (on demand).\n",
        "\n",
        "Example:\n",
        "\n",
        "def countdown(n):\n",
        "    while n > 0:\n",
        "        yield n\n",
        "        n -= 1\n",
        "\n",
        "for val in countdown(3):\n",
        "    print(val)   # 3, 2, 1"
      ],
      "metadata": {
        "id": "H8eyqnt_eYl0"
      }
    },
    {
      "cell_type": "markdown",
      "source": [
        "#7\n",
        "# Normal list consumes memory\n",
        "squares = [x*x for x in range(1000000)]\n",
        "\n",
        "# Generator saves memory\n",
        "squares_gen = (x*x for x in range(1000000))"
      ],
      "metadata": {
        "id": "DaIF_FMPehG3"
      }
    },
    {
      "cell_type": "markdown",
      "source": [
        "#8\n",
        "An anonymous function written in one line using lambda.\n",
        "\n",
        "Used for short, throwaway functions (especially with map, filter, reduce).\n",
        "\n",
        "Example:\n",
        "\n",
        "square = lambda x: x*x\n",
        "print(square(5))   # 25"
      ],
      "metadata": {
        "id": "HBSxEqZUetr_"
      }
    },
    {
      "cell_type": "markdown",
      "source": [
        "#9\n",
        "Applies a function to each item in an iterable and returns an iterator.\n",
        "\n",
        "Example:\n",
        "\n",
        "numbers = [1, 2, 3, 4]\n",
        "squared = map(lambda x: x**2, numbers)\n",
        "print(list(squared))   # [1, 4, 9, 16]"
      ],
      "metadata": {
        "id": "0RMA_zLse1Iv"
      }
    },
    {
      "cell_type": "markdown",
      "source": [
        "#10\n",
        "map() → Applies function to each element.\n",
        "\n",
        "filter() → Selects elements based on condition.\n",
        "\n",
        "reduce() → Performs cumulative computation (requires functools.reduce).\n",
        "\n",
        "Example:\n",
        "\n",
        "from functools import reduce\n",
        "\n",
        "nums = [1, 2, 3, 4, 5]\n",
        "\n",
        "print(list(map(lambda x: x*2, nums)))       # [2, 4, 6, 8, 10]\n",
        "print(list(filter(lambda x: x%2==0, nums))) # [2, 4]\n",
        "print(reduce(lambda a,b: a+b, nums)"
      ],
      "metadata": {
        "id": "NbloXs_Ne90g"
      }
    },
    {
      "cell_type": "markdown",
      "source": [
        "#11\n",
        "from functools import reduce\n",
        "\n",
        "nums = [1, 2, 3, 4]\n",
        "result = reduce(lambda a, b: a + b, nums)\n",
        "print(result)   # 10\n",
        "Pen & Paper Working (Step by Step):\n",
        "\n",
        "Step 1: Take first two → 1 + 2 = 3\n",
        "\n",
        "Step 2: Take result with next → 3 + 3 = 6\n",
        "\n",
        "Step 3: Take result with next → 6 + 4 = 10\n",
        "✅ Final Answer = 10\n"
      ],
      "metadata": {
        "id": "DKgTZ8GgfFkS"
      }
    },
    {
      "cell_type": "code",
      "source": [
        "#PRACTICAL QUESTION"
      ],
      "metadata": {
        "id": "WqSAvwM0feA0"
      },
      "execution_count": null,
      "outputs": []
    },
    {
      "cell_type": "code",
      "source": [
        "#1 SUM OF ALL EVEN NUMBER IN LIST\n",
        "def sum_even(numbers):\n",
        "    return sum(num for num in numbers if num % 2 == 0)\n",
        "\n",
        "print(sum_even([1, 2, 3, 4, 5, 6]))\n",
        "\n"
      ],
      "metadata": {
        "colab": {
          "base_uri": "https://localhost:8080/"
        },
        "id": "B7T4I202ft3d",
        "outputId": "942cf4ab-0108-485d-8c37-7718f27ef57d"
      },
      "execution_count": 1,
      "outputs": [
        {
          "output_type": "stream",
          "name": "stdout",
          "text": [
            "12\n"
          ]
        }
      ]
    },
    {
      "cell_type": "code",
      "source": [
        "#2 REVERSE A STRING\n",
        "def reverse_string(s):\n",
        "    return s[::-1]\n",
        "\n",
        "print(reverse_string(\"Python\"))\n"
      ],
      "metadata": {
        "colab": {
          "base_uri": "https://localhost:8080/"
        },
        "id": "nX069bbqgEAz",
        "outputId": "b148fa94-2d85-4e5e-ade0-527658956e37"
      },
      "execution_count": 2,
      "outputs": [
        {
          "output_type": "stream",
          "name": "stdout",
          "text": [
            "nohtyP\n"
          ]
        }
      ]
    },
    {
      "cell_type": "code",
      "source": [
        "#SQUARE OF A NUMBER IN LIST\n",
        "def square_list(numbers):\n",
        "    return [num**2 for num in numbers]\n",
        "\n",
        "print(square_list([1, 2, 3, 4]))\n"
      ],
      "metadata": {
        "colab": {
          "base_uri": "https://localhost:8080/"
        },
        "id": "37ZtPiGSgUbB",
        "outputId": "90384d53-8b06-4c68-fb1d-5db9611e032c"
      },
      "execution_count": 3,
      "outputs": [
        {
          "output_type": "stream",
          "name": "stdout",
          "text": [
            "[1, 4, 9, 16]\n"
          ]
        }
      ]
    },
    {
      "cell_type": "code",
      "source": [
        "#4 CHECK PRIME NUMBERS (1 TO 200)\n",
        "def is_prime(n):\n",
        "    if n < 2:\n",
        "        return False\n",
        "    for i in range(2, int(n**0.5)+1):\n",
        "        if n % i == 0:\n",
        "            return False\n",
        "    return True\n",
        "\n",
        "for i in range(1, 201):\n",
        "    if is_prime(i):\n",
        "        print(i, end=\" \")\n"
      ],
      "metadata": {
        "colab": {
          "base_uri": "https://localhost:8080/"
        },
        "id": "rjKvJgujggcA",
        "outputId": "bb6d474b-220c-48a7-8a3e-e6a8d04f7387"
      },
      "execution_count": 4,
      "outputs": [
        {
          "output_type": "stream",
          "name": "stdout",
          "text": [
            "2 3 5 7 11 13 17 19 23 29 31 37 41 43 47 53 59 61 67 71 73 79 83 89 97 101 103 107 109 113 127 131 137 139 149 151 157 163 167 173 179 181 191 193 197 199 "
          ]
        }
      ]
    },
    {
      "cell_type": "code",
      "source": [
        "#5 FIBONACCI ITERRTOR CLASS\n",
        "class Fibonacci:\n",
        "    def __init__(self, n):\n",
        "        self.n = n\n",
        "        self.a, self.b, self.count = 0, 1, 0\n",
        "\n",
        "    def __iter__(self):\n",
        "        return self\n",
        "\n",
        "    def __next__(self):\n",
        "        if self.count < self.n:\n",
        "            value = self.a\n",
        "            self.a, self.b = self.b, self.a + self.b\n",
        "            self.count += 1\n",
        "            return value\n",
        "        else:\n",
        "            raise StopIteration\n",
        "\n",
        "fib = Fibonacci(10)\n",
        "for num in fib:\n",
        "    print(num, end=\" \")\n"
      ],
      "metadata": {
        "colab": {
          "base_uri": "https://localhost:8080/"
        },
        "id": "5ZQwPPPKgvm8",
        "outputId": "5c0920ab-08f6-45e9-a080-1f31de693d00"
      },
      "execution_count": 5,
      "outputs": [
        {
          "output_type": "stream",
          "name": "stdout",
          "text": [
            "0 1 1 2 3 5 8 13 21 34 "
          ]
        }
      ]
    },
    {
      "cell_type": "code",
      "source": [
        "#6 GENERATOR OF POWERS OF 2\n",
        "def powers_of_two(n):\n",
        "    for i in range(n+1):\n",
        "        yield 2**i\n",
        "\n",
        "for val in powers_of_two(5):\n",
        "    print(val, end=\" \")"
      ],
      "metadata": {
        "colab": {
          "base_uri": "https://localhost:8080/"
        },
        "id": "Ib4IaL6Lg12q",
        "outputId": "edc15ae1-4c5d-4726-aa0a-26beefa1ee31"
      },
      "execution_count": 6,
      "outputs": [
        {
          "output_type": "stream",
          "name": "stdout",
          "text": [
            "1 2 4 8 16 32 "
          ]
        }
      ]
    },
    {
      "cell_type": "code",
      "source": [
        "#7 GENERATOR TO READ FILE LINE BY LINE\n",
        "\n",
        "def read_file_lines(filename):\n",
        "    with open(filename, \"r\") as file:\n",
        "        for line in file:\n",
        "            yield line.strip()\n",
        "\n",
        "# Example usage\n",
        "for line in read_file_lines(\"sample.txt\"):\n",
        "    print(line)\n"
      ],
      "metadata": {
        "colab": {
          "base_uri": "https://localhost:8080/",
          "height": 315
        },
        "id": "mDj0pjihhCIW",
        "outputId": "8732afec-c229-4915-8d85-52b52d25b18f"
      },
      "execution_count": 7,
      "outputs": [
        {
          "output_type": "error",
          "ename": "FileNotFoundError",
          "evalue": "[Errno 2] No such file or directory: 'sample.txt'",
          "traceback": [
            "\u001b[0;31m---------------------------------------------------------------------------\u001b[0m",
            "\u001b[0;31mFileNotFoundError\u001b[0m                         Traceback (most recent call last)",
            "\u001b[0;32m/tmp/ipython-input-3923007578.py\u001b[0m in \u001b[0;36m<cell line: 0>\u001b[0;34m()\u001b[0m\n\u001b[1;32m      6\u001b[0m \u001b[0;34m\u001b[0m\u001b[0m\n\u001b[1;32m      7\u001b[0m \u001b[0;31m# Example usage\u001b[0m\u001b[0;34m\u001b[0m\u001b[0;34m\u001b[0m\u001b[0m\n\u001b[0;32m----> 8\u001b[0;31m \u001b[0;32mfor\u001b[0m \u001b[0mline\u001b[0m \u001b[0;32min\u001b[0m \u001b[0mread_file_lines\u001b[0m\u001b[0;34m(\u001b[0m\u001b[0;34m\"sample.txt\"\u001b[0m\u001b[0;34m)\u001b[0m\u001b[0;34m:\u001b[0m\u001b[0;34m\u001b[0m\u001b[0;34m\u001b[0m\u001b[0m\n\u001b[0m\u001b[1;32m      9\u001b[0m     \u001b[0mprint\u001b[0m\u001b[0;34m(\u001b[0m\u001b[0mline\u001b[0m\u001b[0;34m)\u001b[0m\u001b[0;34m\u001b[0m\u001b[0;34m\u001b[0m\u001b[0m\n",
            "\u001b[0;32m/tmp/ipython-input-3923007578.py\u001b[0m in \u001b[0;36mread_file_lines\u001b[0;34m(filename)\u001b[0m\n\u001b[1;32m      1\u001b[0m \u001b[0;31m#7 GENERATOR TO READ FILE LINE BY LINE\u001b[0m\u001b[0;34m\u001b[0m\u001b[0;34m\u001b[0m\u001b[0m\n\u001b[1;32m      2\u001b[0m \u001b[0;32mdef\u001b[0m \u001b[0mread_file_lines\u001b[0m\u001b[0;34m(\u001b[0m\u001b[0mfilename\u001b[0m\u001b[0;34m)\u001b[0m\u001b[0;34m:\u001b[0m\u001b[0;34m\u001b[0m\u001b[0;34m\u001b[0m\u001b[0m\n\u001b[0;32m----> 3\u001b[0;31m     \u001b[0;32mwith\u001b[0m \u001b[0mopen\u001b[0m\u001b[0;34m(\u001b[0m\u001b[0mfilename\u001b[0m\u001b[0;34m,\u001b[0m \u001b[0;34m\"r\"\u001b[0m\u001b[0;34m)\u001b[0m \u001b[0;32mas\u001b[0m \u001b[0mfile\u001b[0m\u001b[0;34m:\u001b[0m\u001b[0;34m\u001b[0m\u001b[0;34m\u001b[0m\u001b[0m\n\u001b[0m\u001b[1;32m      4\u001b[0m         \u001b[0;32mfor\u001b[0m \u001b[0mline\u001b[0m \u001b[0;32min\u001b[0m \u001b[0mfile\u001b[0m\u001b[0;34m:\u001b[0m\u001b[0;34m\u001b[0m\u001b[0;34m\u001b[0m\u001b[0m\n\u001b[1;32m      5\u001b[0m             \u001b[0;32myield\u001b[0m \u001b[0mline\u001b[0m\u001b[0;34m.\u001b[0m\u001b[0mstrip\u001b[0m\u001b[0;34m(\u001b[0m\u001b[0;34m)\u001b[0m\u001b[0;34m\u001b[0m\u001b[0;34m\u001b[0m\u001b[0m\n",
            "\u001b[0;31mFileNotFoundError\u001b[0m: [Errno 2] No such file or directory: 'sample.txt'"
          ]
        }
      ]
    },
    {
      "cell_type": "code",
      "source": [
        "#8 SORT LIST OF TUPLE BY 2ND ELEMENTS(LAMBDA)\n",
        "data = [(1, 3), (2, 1), (4, 5), (3, 2)]\n",
        "sorted_data = sorted(data, key=lambda x: x[1])\n",
        "print(sorted_data)"
      ],
      "metadata": {
        "colab": {
          "base_uri": "https://localhost:8080/"
        },
        "id": "zqNay0lViw9q",
        "outputId": "2c29cad1-d324-459a-c63b-c437035ebb85"
      },
      "execution_count": 8,
      "outputs": [
        {
          "output_type": "stream",
          "name": "stdout",
          "text": [
            "[(2, 1), (3, 2), (1, 3), (4, 5)]\n"
          ]
        }
      ]
    },
    {
      "cell_type": "code",
      "source": [
        "#9 CONVERT CELSIUS TO FAHRENHEIT USING map()\n",
        "celsius = [0, 10, 20, 30, 40]\n",
        "fahrenheit = list(map(lambda c: (c * 9/5) + 32, celsius))\n",
        "print(fahrenheit)\n"
      ],
      "metadata": {
        "colab": {
          "base_uri": "https://localhost:8080/"
        },
        "id": "3S3zLF9Eji6D",
        "outputId": "21ab58c1-f3db-46a5-be0e-c3cb0ddaa962"
      },
      "execution_count": 9,
      "outputs": [
        {
          "output_type": "stream",
          "name": "stdout",
          "text": [
            "[32.0, 50.0, 68.0, 86.0, 104.0]\n"
          ]
        }
      ]
    },
    {
      "cell_type": "code",
      "source": [
        "#10 REMOVE VOWELS FROM STRING USING filter()\n",
        "def remove_vowels(s):\n",
        "    vowels = \"aeiouAEIOU\"\n",
        "    return \"\".join(filter(lambda ch: ch not in vowels, s))\n",
        "\n",
        "print(remove_vowels(\"Hello World\"))  # Hll Wrld\n"
      ],
      "metadata": {
        "colab": {
          "base_uri": "https://localhost:8080/"
        },
        "id": "HbkdKgzLj1qk",
        "outputId": "e397e7d3-7ee5-4bbc-da25-9c7ceae1d340"
      },
      "execution_count": 10,
      "outputs": [
        {
          "output_type": "stream",
          "name": "stdout",
          "text": [
            "Hll Wrld\n"
          ]
        }
      ]
    }
  ]
}